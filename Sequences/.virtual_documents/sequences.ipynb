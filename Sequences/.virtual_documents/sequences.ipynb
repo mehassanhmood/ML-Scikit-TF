import tensorflow as tf
tf.__version__
import warnings
warnings.filterwarnings("ignore")


import matplotlib.pyplot as plt
import seaborn as sns
sns.set()

plt.rc("font",size=14 )
plt.rc("axes", labelsize=14, titlesize=12 )
plt.rc("legend", fontsize=14 )
plt.rc("xtick", labelsize=10)
plt.rc("ytick", labelsize=10)


tf.keras.utils.get_file(fname="ridership.tgz",
                        origin="https://github.com/ageron/data/raw/main/ridership.tgz",
                        cache_dir=".",
                       extract=True)


import pandas as pd


path = "datasets/ridership/CTA_-_Ridership_-_Daily_Boarding_Totals.csv"
df = pd.read_csv(path,parse_dates=["service_date"])


df


df = df.drop_duplicates()


df.duplicated().sum()


df = df.set_index("service_date")


df = df.sort_index()


df = df.drop(columns="total_rides")


df.dtypes


df["2019-03":"2019-05"].plot(grid=True, marker=".", figsize=(9,4))
plt.show()


# weekly
diff_7 = df[["bus","rail_boardings"]].diff(7)["2019-03":"2019-05"]
fig, axs= plt.subplots(2,1, sharex=True, figsize=(8,5))
df.plot(ax=axs[0], legend=False, marker=".")
df.shift(7).plot(ax =axs[0], grid=True, legend=False, linestyle=":")
diff_7.plot(ax=axs[1], grid=True, marker=".")
plt.show()


df.loc["2019-05-25":"2019-05-27"]["day_type"]


diff_7.abs().mean()


# More about diff
# Absolute error
# Mean absolute percentage error


# Mean Absolute Error:
targets = df[["bus","rail_boardings"]]["2019-03":"2019-05"]
(diff_7/targets).abs().mean()


period = slice("2001","2019")


period


df.dtypes


pd.set_option("display.precision", 2)


df_monthly = df.resample("M")[["bus","rail_boardings"]].mean()
rolling_avg_12_months = df_monthly[period].rolling(window=12).mean()
# df_monthly


fig, ax = plt.subplots(figsize=(8,4))
df_monthly[period].plot(ax = ax, marker = ".")
rolling_avg_12_months.plot(ax = ax, grid = True, legend = False)
plt.show();


df_monthly.diff(12)[period].plot(grid = True, marker = ".", figsize=(8,3))
plt.show();


from statsmodels.tsa.arima.model import ARIMA


origin, today = "2019-01-01", "2019-05-31"


rail_Series = df.loc[origin:today]["rail_boardings"].asfreq("D")


model = ARIMA(rail_Series, order=(1,0,0), seasonal_order=(0,1,1,7))


model = model.fit()


y_pred = model.forecast()


y_pred


# actual value:
df["rail_boardings"].loc["2019-06-01"]


# naive forecast : value from week earlier:
df["rail_boardings"].loc["2019-05-25"]


origin, start_date, end_date = "2019-01-01", "2019-03-01", "2019-05-31"


time_period = pd.date_range(start_date, end_date,)


rail_series = df.loc[origin:end_date]["rail_boardings"].asfreq("D")


y_preds= []


time_period.shift(-1)


for today in time_period.shift(-1):
    model = ARIMA(rail_series[origin:today],
                 order=(1,0,0),
                 seasonal_order=(0,1,1,7))
    model =model.fit()
    y_pred = model.forecast()[0]
    y_preds.append(y_pred)

y_preds = pd.Series(y_preds, index = time_period)
mae = (y_preds - rail_series[time_period]).abs().mean()


mae


# extra code – displays the SARIMA forecasts
fig, ax = plt.subplots(figsize=(8, 3))
rail_series.loc[time_period].plot(label="True", ax=ax, marker=".", grid=True)
ax.plot(y_preds, color="r", marker=".", label="SARIMA Forecasts")
plt.legend()
plt.show()


from statsmodels.graphics.tsaplots import plot_acf, plot_pacf


fig, axs = plt.subplots(nrows=1, ncols=2, figsize=(15,5))
plot_acf(df["rail_boardings"][period], ax=axs[0], lags=35)
# axs[0].grid()
plot_pacf(df["rail_boardings"][period], ax=axs[1], lags=35)
# axs[1].grid()
plt.show()





import tensorflow as tf


my_series = [i for i in range(6)]


my_dataset = tf.keras.utils.timeseries_dataset_from_array(my_series,
                                                           targets=my_series[3:],
                                                           sequence_length=3,
                                                           batch_size=2
                                                          )


list(my_dataset)


list(tf.data.Dataset.range(6))


for i in tf.data.Dataset.range(6).window(4, shift=1):
    for x in i:
        print(f"{x}", end=" ")
    print()


for i in tf.data.Dataset.range(6).window(4, shift=1):
    for x in i:
        print(f"{x}", end=" ")
    print()


# drop_remainder = True
dataset = tf.data.Dataset.range(6).window(4,shift=1, drop_remainder=True)


for i in dataset:
    for x in i:
        print(f"{x}", end = " ")
    print()


# falt_map()
dataset = dataset.flat_map(lambda ds: ds.batch(4))


for i in dataset:
    print(f"{i}")


def to_window(dataset, length):
    """
    This function takes in tf dataset and length to make sequences of look back periods
    """
    dataset = dataset.window(length, shift=1, drop_remainder = True)
    return dataset.flat_map(lambda ds : ds.batch(length))


dataset  = to_window(tf.data.Dataset.range(6), 4)


for i in dataset:
    print(f"{i}")





rail_train = df[["rail_boardings"]]["2016-01":"2018-12"] / 1e6
rail_val = df[["rail_boardings"]]["2019-01":"2019-05"] / 1e6
rail_test = df[["rail_boardings"]]["2019-06":] / 1e6


# making sequences:
seq_length = 56
train_ds = tf.keras.utils.timeseries_dataset_from_array(rail_train.to_numpy(),
                                                        targets=rail_train[seq_length:],
                                                        sequence_length=seq_length,
                                                        batch_size=32,
                                                        shuffle=True,
                                                        seed=42
                                                       )

val_ds = tf.keras.utils.timeseries_dataset_from_array(rail_val.to_numpy(),
                                                        targets=rail_val[seq_length:],
                                                        sequence_length=seq_length,
                                                        batch_size=32,
                                                     )


2
