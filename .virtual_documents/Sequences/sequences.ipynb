import tensorflow as tf
tf.__version__
import warnings
warnings.filterwarnings("ignore")


import matplotlib.pyplot as plt
import seaborn as sns
sns.set()

plt.rc("font",size=14 )
plt.rc("axes", labelsize=14, titlesize=12 )
plt.rc("legend", fontsize=14 )
plt.rc("xtick", labelsize=10)
plt.rc("ytick", labelsize=10)


tf.keras.utils.get_file(fname="ridership.tgz",
                        origin="https://github.com/ageron/data/raw/main/ridership.tgz",
                        cache_dir=".",
                       extract=True)


import pandas as pd


path = "datasets/ridership/CTA_-_Ridership_-_Daily_Boarding_Totals.csv"
df = pd.read_csv(path,parse_dates=["service_date"])


df


df = df.drop_duplicates()


df.duplicated().sum()


df = df.set_index("service_date")


df = df.sort_index()


df = df.drop(columns="total_rides")


df.dtypes


df["2019-03":"2019-05"].plot(grid=True, marker=".", figsize=(9,4))
plt.show()


# weekly
diff_7 = df[["bus","rail_boardings"]].diff(7)["2019-03":"2019-05"]
fig, axs= plt.subplots(2,1, sharex=True, figsize=(8,5))
df.plot(ax=axs[0], legend=False, marker=".")
df.shift(7).plot(ax =axs[0], grid=True, legend=False, linestyle=":")
diff_7.plot(ax=axs[1], grid=True, marker=".")
plt.show()


df.loc["2019-05-25":"2019-05-27"]["day_type"]


diff_7.abs().mean()


# More about diff
# Absolute error
# Mean absolute percentage error


# Mean Absolute Error:
targets = df[["bus","rail_boardings"]]["2019-03":"2019-05"]
(diff_7/targets).abs().mean()


period = slice("2001","2019")


period


df.dtypes


pd.set_option("display.precision", 2)


df_monthly = df.resample("M")[["bus","rail_boardings"]].mean()
rolling_avg_12_months = df_monthly[period].rolling(window=12).mean()
# df_monthly


fig, ax = plt.subplots(figsize=(8,4))
df_monthly[period].plot(ax = ax, marker = ".")
rolling_avg_12_months.plot(ax = ax, grid = True, legend = False)
plt.show();


df_monthly.diff(12)[period].plot(grid = True, marker = ".", figsize=(8,3))
plt.show();



